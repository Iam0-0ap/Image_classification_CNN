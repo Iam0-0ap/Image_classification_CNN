{
 "cells": [
  {
   "cell_type": "code",
   "execution_count": 2,
   "metadata": {},
   "outputs": [],
   "source": [
    "import cv2\n",
    "import glob"
   ]
  },
  {
   "cell_type": "markdown",
   "metadata": {},
   "source": [
    "# For Men dataset!!"
   ]
  },
  {
   "cell_type": "code",
   "execution_count": 4,
   "metadata": {},
   "outputs": [
    {
     "name": "stdout",
     "output_type": "stream",
     "text": [
      "temp\\01_01_10_00_0005.jpg\n",
      "Saved face: 1.jpg\n",
      "temp\\01_01_12_00_0005.jpg\n",
      "Saved face: 2.jpg\n",
      "temp\\01_01_21_00_0007.jpg\n",
      "Saved face: 3.jpg\n",
      "temp\\01_01_24_00_0003.jpg\n",
      "Saved face: 4.jpg\n",
      "temp\\01_01_36_00_0003.jpg\n",
      "Saved face: 5.jpg\n",
      "temp\\01_02_21_00_0007.jpg\n",
      "Saved face: 6.jpg\n",
      "temp\\01_02_36_00_0005.jpg\n",
      "Saved face: 7.jpg\n",
      "temp\\01_03_15_00_0035.jpg\n",
      "Saved face: 8.jpg\n",
      "temp\\01_03_20_00_0008.jpg\n",
      "Saved face: 9.jpg\n",
      "temp\\01_03_21_00_0005.jpg\n",
      "Saved face: 10.jpg\n",
      "temp\\01_03_36_00_0008.jpg\n",
      "Saved face: 11.jpg\n",
      "temp\\01_04_15_00_0012.jpg\n",
      "Saved face: 12.jpg\n"
     ]
    }
   ],
   "source": [
    "# Select the path\n",
    "path = \"temp\"\n",
    "img_number = 1  # Start an iterator for image number.\n",
    "no_face = 0  # to count the total number of exceptions thrown on the images\n",
    "undetected_images = []   # list to store those images that Haar Cascade was not able to detec faces of!\n",
    "\n",
    "# Load the pre-trained Haar Cascade classifier for face detection\n",
    "face_cascade = cv2.CascadeClassifier(cv2.data.haarcascades + 'haarcascade_frontalface_default.xml')\n",
    "\n",
    "# Extract at most one face from each image to be used for training.\n",
    "# Resize to 128x128\n",
    "for file in glob.glob(path + \"/*.jpg\"):\n",
    "    print(file)  # Just stop here to see all file names printed\n",
    "    img = cv2.imread(file, 1)  # Now, we can read each file since we have the full path\n",
    "\n",
    "    gray = cv2.cvtColor(img, cv2.COLOR_BGR2GRAY)\n",
    "\n",
    "    # Detect faces in the image\n",
    "    # faces = face_cascade.detectMultiScale(gray, scaleFactor=1.2, minNeighbors=5)\n",
    "    # faces = face_cascade.detectMultiScale(gray, scaleFactor=1.1, minNeighbors=4)\n",
    "    faces = face_cascade.detectMultiScale(gray, scaleFactor=1.1, minNeighbors=3)\n",
    "\n",
    "    try:\n",
    "        # Process only the first detected face\n",
    "        x, y, w, h = faces[0]\n",
    "        roi_color = img[y:y + h, x:x + w]\n",
    "        resized = cv2.resize(roi_color, (128, 128))\n",
    "        cv2.imwrite(\"temp/men/\" + str(img_number) + \".jpg\", resized)\n",
    "        print(f\"Saved face: {img_number}.jpg\")\n",
    "        img_number += 1\n",
    "    except IndexError:\n",
    "        print(f\"No faces detected in image: {file}\")\n",
    "        undetected_images.append(file)\n",
    "        no_face += 1\n"
   ]
  },
  {
   "cell_type": "markdown",
   "metadata": {},
   "source": [
    "# For women dataset"
   ]
  },
  {
   "cell_type": "code",
   "execution_count": 5,
   "metadata": {},
   "outputs": [
    {
     "name": "stdout",
     "output_type": "stream",
     "text": [
      "temp\\01_01_05_00_0041.jpg\n",
      "Saved face: 1.jpg\n",
      "temp\\01_02_39_00_0017.jpg\n",
      "Saved face: 2.jpg\n",
      "temp\\01_03_05_00_0061.jpg\n",
      "Saved face: 3.jpg\n",
      "temp\\01_04_25_00_0002.jpg\n",
      "Saved face: 4.jpg\n",
      "temp\\01_04_39_00_0040.jpg\n",
      "Saved face: 5.jpg\n",
      "temp\\01_05_05_00_0056.jpg\n",
      "Saved face: 6.jpg\n",
      "temp\\02_02_39_00_0002.jpg\n",
      "No faces detected in image: temp\\02_02_39_00_0002.jpg\n",
      "temp\\02_03_05_00_0017.jpg\n",
      "Saved face: 7.jpg\n"
     ]
    }
   ],
   "source": [
    "# Select the path\n",
    "path = \"temp\"\n",
    "img_number = 1  # Start an iterator for image number.\n",
    "no_face = 0  # to count the total number of exceptions thrown on the images\n",
    "undetected_images = []   # list to store those images that Haar Cascade was not able to detec faces of!\n",
    "\n",
    "# Load the pre-trained Haar Cascade classifier for face detection\n",
    "face_cascade = cv2.CascadeClassifier(cv2.data.haarcascades + 'haarcascade_frontalface_default.xml')\n",
    "\n",
    "# Extract at most one face from each image to be used for training.\n",
    "# Resize to 128x128\n",
    "for file in glob.glob(path + \"/*.jpg\"):\n",
    "    print(file)  # Just stop here to see all file names printed\n",
    "    img = cv2.imread(file, 1)  # Now, we can read each file since we have the full path\n",
    "\n",
    "    gray = cv2.cvtColor(img, cv2.COLOR_BGR2GRAY)\n",
    "\n",
    "    # Detect faces in the image\n",
    "    # faces = face_cascade.detectMultiScale(gray, scaleFactor=1.2, minNeighbors=5)\n",
    "    # faces = face_cascade.detectMultiScale(gray, scaleFactor=1.1, minNeighbors=4)\n",
    "    faces = face_cascade.detectMultiScale(gray, scaleFactor=1.1, minNeighbors=3)\n",
    "\n",
    "    try:\n",
    "        # Process only the first detected face\n",
    "        x, y, w, h = faces[0]\n",
    "        roi_color = img[y:y + h, x:x + w]\n",
    "        resized = cv2.resize(roi_color, (128, 128))\n",
    "        cv2.imwrite(\"temp/women/\" + str(img_number) + \".jpg\", resized)\n",
    "        print(f\"Saved face: {img_number}.jpg\")\n",
    "        img_number += 1\n",
    "    except IndexError:\n",
    "        print(f\"No faces detected in image: {file}\")\n",
    "        undetected_images.append(file)\n",
    "        no_face += 1\n"
   ]
  }
 ],
 "metadata": {
  "kernelspec": {
   "display_name": "Python 3",
   "language": "python",
   "name": "python3"
  },
  "language_info": {
   "codemirror_mode": {
    "name": "ipython",
    "version": 3
   },
   "file_extension": ".py",
   "mimetype": "text/x-python",
   "name": "python",
   "nbconvert_exporter": "python",
   "pygments_lexer": "ipython3",
   "version": "3.9.5"
  }
 },
 "nbformat": 4,
 "nbformat_minor": 2
}
